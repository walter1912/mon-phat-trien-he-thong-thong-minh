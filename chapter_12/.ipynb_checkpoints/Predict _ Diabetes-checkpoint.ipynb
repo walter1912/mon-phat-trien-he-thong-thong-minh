{
 "cells": [
  {
   "cell_type": "code",
   "execution_count": 14,
   "id": "8eab3fe5",
   "metadata": {},
   "outputs": [],
   "source": [
    "import json\n",
    "import requests"
   ]
  },
  {
   "cell_type": "code",
   "execution_count": 15,
   "id": "adfd0ed9",
   "metadata": {},
   "outputs": [
    {
     "name": "stdout",
     "output_type": "stream",
     "text": [
      "Not Diabetic\n",
      "Confidence: 68.42%\n"
     ]
    }
   ],
   "source": [
    "def predict_diabetes(BMI, Age, Glucose):\n",
    "    url = 'http://127.0.0.1:5000/diabetes/v1/predict'\n",
    "    data = {\"BMI\":BMI, \"Age\":Age, \"Glucose\":Glucose}\n",
    "    data_json = json.dumps(data)\n",
    "    headers = {'Content-type':'application/json'}\n",
    "    response = requests.post(url, data=data_json, headers=headers)\n",
    "    result = json.loads(response.text)\n",
    "    return result\n",
    "if __name__ == \"__main__\":\n",
    "    predictions = predict_diabetes(30,40,100)\n",
    "    print(\"Diabetic\" if predictions[\"prediction\"] == 1 else \"Not Diabetic\")\n",
    "    print(\"Confidence: \" + predictions[\"confidence\"] + \"%\")"
   ]
  },
  {
   "cell_type": "code",
   "execution_count": 16,
   "id": "db94329f",
   "metadata": {},
   "outputs": [
    {
     "name": "stdout",
     "output_type": "stream",
     "text": [
      "BMI?33.6\n",
      "Age?50\n",
      "Glucose?148\n",
      "Diabetic\n",
      "Confidence: 84.21%\n"
     ]
    }
   ],
   "source": [
    "def predict_diabetes(BMI, Age, Glucose):\n",
    "    url = 'http://127.0.0.1:5000/diabetes/v1/predict'\n",
    "    data = {\"BMI\":BMI, \"Age\":Age, \"Glucose\":Glucose}\n",
    "    data_json = json.dumps(data)\n",
    "    headers = {'Content-type':'application/json'}\n",
    "    response = requests.post(url, data=data_json, headers=headers)\n",
    "    result = json.loads(response.text)\n",
    "    return result\n",
    "if __name__ == \"__main__\":\n",
    "    BMI = input('BMI?')\n",
    "    Age = input('Age?')\n",
    "    Glucose = input('Glucose?')\n",
    "    predictions = predict_diabetes(BMI,Age,Glucose)\n",
    "    print(\"Diabetic\" if predictions[\"prediction\"] == 1 else \"Not Diabetic\")\n",
    "    print(\"Confidence: \" + predictions[\"confidence\"] + \"%\")"
   ]
  },
  {
   "cell_type": "code",
   "execution_count": null,
   "id": "55132df9",
   "metadata": {},
   "outputs": [],
   "source": []
  },
  {
   "cell_type": "code",
   "execution_count": null,
   "id": "db45f997",
   "metadata": {},
   "outputs": [],
   "source": []
  },
  {
   "cell_type": "code",
   "execution_count": null,
   "id": "9f434685",
   "metadata": {},
   "outputs": [],
   "source": []
  }
 ],
 "metadata": {
  "kernelspec": {
   "display_name": "Python 3 (ipykernel)",
   "language": "python",
   "name": "python3"
  },
  "language_info": {
   "codemirror_mode": {
    "name": "ipython",
    "version": 3
   },
   "file_extension": ".py",
   "mimetype": "text/x-python",
   "name": "python",
   "nbconvert_exporter": "python",
   "pygments_lexer": "ipython3",
   "version": "3.9.10"
  }
 },
 "nbformat": 4,
 "nbformat_minor": 5
}
