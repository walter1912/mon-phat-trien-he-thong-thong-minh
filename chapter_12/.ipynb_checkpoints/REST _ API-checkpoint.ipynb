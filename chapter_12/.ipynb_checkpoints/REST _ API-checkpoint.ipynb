{
 "cells": [
  {
   "cell_type": "code",
   "execution_count": 1,
   "id": "cc8002b6",
   "metadata": {},
   "outputs": [],
   "source": [
    "import pickle\n",
    "from flask import Flask, request, json, jsonify\n",
    "import numpy as np\n",
    "app = Flask(__name__)"
   ]
  },
  {
   "cell_type": "code",
   "execution_count": null,
   "id": "e265672f",
   "metadata": {},
   "outputs": [
    {
     "name": "stdout",
     "output_type": "stream",
     "text": [
      " * Serving Flask app \"__main__\" (lazy loading)\n",
      " * Environment: production\n",
      "\u001b[31m   WARNING: This is a development server. Do not use it in a production deployment.\u001b[0m\n",
      "\u001b[2m   Use a production WSGI server instead.\u001b[0m\n",
      " * Debug mode: off\n"
     ]
    },
    {
     "name": "stderr",
     "output_type": "stream",
     "text": [
      " * Running on all addresses.\n",
      "   WARNING: This is a development server. Do not use it in a production deployment.\n",
      " * Running on http://127.0.0.1:5000/ (Press CTRL+C to quit)\n"
     ]
    }
   ],
   "source": [
    "#---the filename of the saved model---\n",
    "filename = 'diabetes.sav'\n",
    "#---load the saved model---\n",
    "loaded_model = pickle.load(open(filename, 'rb'))\n",
    "@app.route('/diabetes/v1/predict', methods=['POST'])\n",
    "def predict():\n",
    "    #---get the features to predict---\n",
    "    features = request.json\n",
    "    #---create the features list for prediction---\n",
    "    features_list = [features[\"Glucose\"],\n",
    "    features[\"BMI\"],\n",
    "    features[\"Age\"]]\n",
    "    #---get the prediction class---\n",
    "    prediction = loaded_model.predict([features_list])\n",
    "    #---get the prediction probabilities---\n",
    "    confidence = loaded_model.predict_proba([features_list])\n",
    "    #---formulate the response to return to client---\n",
    "    response = {}\n",
    "    response['prediction'] = int(prediction[0])\n",
    "    response['confidence'] = str(round(np.amax(confidence[0]) * 100 ,2))\n",
    "    return jsonify(response)\n",
    "if __name__ == '__main__':\n",
    " app.run(host='0.0.0.0', port=5000)"
   ]
  },
  {
   "cell_type": "code",
   "execution_count": null,
   "id": "8ea5716e",
   "metadata": {},
   "outputs": [],
   "source": []
  }
 ],
 "metadata": {
  "kernelspec": {
   "display_name": "Python 3 (ipykernel)",
   "language": "python",
   "name": "python3"
  },
  "language_info": {
   "codemirror_mode": {
    "name": "ipython",
    "version": 3
   },
   "file_extension": ".py",
   "mimetype": "text/x-python",
   "name": "python",
   "nbconvert_exporter": "python",
   "pygments_lexer": "ipython3",
   "version": "3.9.12"
  }
 },
 "nbformat": 4,
 "nbformat_minor": 5
}
