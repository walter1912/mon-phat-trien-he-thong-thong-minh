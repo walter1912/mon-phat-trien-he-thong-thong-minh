{
 "cells": [
  {
   "cell_type": "code",
   "execution_count": 2,
   "id": "cc8002b6",
   "metadata": {},
   "outputs": [],
   "source": [
    "import pickle\n",
    "from flask import Flask, request, json, jsonify\n",
    "import numpy as np\n",
    "app = Flask(__name__)"
   ]
  },
  {
   "cell_type": "code",
   "execution_count": null,
   "id": "e265672f",
   "metadata": {},
   "outputs": [
    {
     "name": "stdout",
     "output_type": "stream",
     "text": [
      " * Serving Flask app '__main__'\n",
      " * Debug mode: off\n"
     ]
    },
    {
     "name": "stderr",
     "output_type": "stream",
     "text": [
      "C:\\Users\\THAIHB.B19CN638\\AppData\\Local\\Programs\\Python\\Python39\\lib\\site-packages\\sklearn\\base.py:329: UserWarning: Trying to unpickle estimator KNeighborsClassifier from version 1.0.2 when using version 1.1.3. This might lead to breaking code or invalid results. Use at your own risk. For more info please refer to:\n",
      "https://scikit-learn.org/stable/model_persistence.html#security-maintainability-limitations\n",
      "  warnings.warn(\n",
      "WARNING: This is a development server. Do not use it in a production deployment. Use a production WSGI server instead.\n",
      " * Running on all addresses (0.0.0.0)\n",
      " * Running on http://127.0.0.1:5000\n",
      " * Running on http://10.21.8.62:5000\n",
      "Press CTRL+C to quit\n",
      "C:\\Users\\THAIHB.B19CN638\\AppData\\Local\\Programs\\Python\\Python39\\lib\\site-packages\\sklearn\\base.py:450: UserWarning: X does not have valid feature names, but KNeighborsClassifier was fitted with feature names\n",
      "  warnings.warn(\n",
      "C:\\Users\\THAIHB.B19CN638\\AppData\\Local\\Programs\\Python\\Python39\\lib\\site-packages\\sklearn\\base.py:450: UserWarning: X does not have valid feature names, but KNeighborsClassifier was fitted with feature names\n",
      "  warnings.warn(\n",
      "127.0.0.1 - - [22/Nov/2022 11:38:57] \"POST /diabetes/v1/predict HTTP/1.1\" 200 -\n",
      "C:\\Users\\THAIHB.B19CN638\\AppData\\Local\\Programs\\Python\\Python39\\lib\\site-packages\\sklearn\\base.py:450: UserWarning: X does not have valid feature names, but KNeighborsClassifier was fitted with feature names\n",
      "  warnings.warn(\n",
      "C:\\Users\\THAIHB.B19CN638\\AppData\\Local\\Programs\\Python\\Python39\\lib\\site-packages\\sklearn\\base.py:450: UserWarning: X does not have valid feature names, but KNeighborsClassifier was fitted with feature names\n",
      "  warnings.warn(\n",
      "127.0.0.1 - - [22/Nov/2022 11:39:08] \"POST /diabetes/v1/predict HTTP/1.1\" 200 -\n",
      "C:\\Users\\THAIHB.B19CN638\\AppData\\Local\\Programs\\Python\\Python39\\lib\\site-packages\\sklearn\\base.py:450: UserWarning: X does not have valid feature names, but KNeighborsClassifier was fitted with feature names\n",
      "  warnings.warn(\n",
      "[2022-11-22 11:39:23,272] ERROR in app: Exception on /diabetes/v1/predict [POST]\n",
      "Traceback (most recent call last):\n",
      "  File \"C:\\Users\\THAIHB.B19CN638\\AppData\\Local\\Programs\\Python\\Python39\\lib\\site-packages\\flask\\app.py\", line 2525, in wsgi_app\n",
      "    response = self.full_dispatch_request()\n",
      "  File \"C:\\Users\\THAIHB.B19CN638\\AppData\\Local\\Programs\\Python\\Python39\\lib\\site-packages\\flask\\app.py\", line 1822, in full_dispatch_request\n",
      "    rv = self.handle_user_exception(e)\n",
      "  File \"C:\\Users\\THAIHB.B19CN638\\AppData\\Local\\Programs\\Python\\Python39\\lib\\site-packages\\flask\\app.py\", line 1820, in full_dispatch_request\n",
      "    rv = self.dispatch_request()\n",
      "  File \"C:\\Users\\THAIHB.B19CN638\\AppData\\Local\\Programs\\Python\\Python39\\lib\\site-packages\\flask\\app.py\", line 1796, in dispatch_request\n",
      "    return self.ensure_sync(self.view_functions[rule.endpoint])(**view_args)\n",
      "  File \"C:\\Users\\THAIHB.B19CN638\\AppData\\Local\\Temp\\ipykernel_15240\\2685756999.py\", line 14, in predict\n",
      "    prediction = loaded_model.predict([features_list])\n",
      "  File \"C:\\Users\\THAIHB.B19CN638\\AppData\\Local\\Programs\\Python\\Python39\\lib\\site-packages\\sklearn\\neighbors\\_classification.py\", line 226, in predict\n",
      "    neigh_ind = self.kneighbors(X, return_distance=False)\n",
      "  File \"C:\\Users\\THAIHB.B19CN638\\AppData\\Local\\Programs\\Python\\Python39\\lib\\site-packages\\sklearn\\neighbors\\_base.py\", line 745, in kneighbors\n",
      "    X = self._validate_data(X, accept_sparse=\"csr\", reset=False, order=\"C\")\n",
      "  File \"C:\\Users\\THAIHB.B19CN638\\AppData\\Local\\Programs\\Python\\Python39\\lib\\site-packages\\sklearn\\base.py\", line 577, in _validate_data\n",
      "    X = check_array(X, input_name=\"X\", **check_params)\n",
      "  File \"C:\\Users\\THAIHB.B19CN638\\AppData\\Local\\Programs\\Python\\Python39\\lib\\site-packages\\sklearn\\utils\\validation.py\", line 887, in check_array\n",
      "    raise ValueError(\n",
      "ValueError: dtype='numeric' is not compatible with arrays of bytes/strings.Convert your data to numeric values explicitly instead.\n",
      "127.0.0.1 - - [22/Nov/2022 11:39:23] \"POST /diabetes/v1/predict HTTP/1.1\" 500 -\n"
     ]
    }
   ],
   "source": [
    "#---the filename of the saved model---\n",
    "filename = 'diabetes.sav'\n",
    "#---load the saved model---\n",
    "loaded_model = pickle.load(open(filename, 'rb'))\n",
    "@app.route('/diabetes/v1/predict', methods=['POST'])\n",
    "def predict():\n",
    "    #---get the features to predict---\n",
    "    features = request.json\n",
    "    #---create the features list for prediction---\n",
    "    features_list = [features[\"Glucose\"],\n",
    "    features[\"BMI\"],\n",
    "    features[\"Age\"]]\n",
    "    #---get the prediction class---\n",
    "    prediction = loaded_model.predict([features_list])\n",
    "    #---get the prediction probabilities---\n",
    "    confidence = loaded_model.predict_proba([features_list])\n",
    "    #---formulate the response to return to client---\n",
    "    response = {}\n",
    "    response['prediction'] = int(prediction[0])\n",
    "    response['confidence'] = str(round(np.amax(confidence[0]) * 100 ,2))\n",
    "    return jsonify(response)\n",
    "if __name__ == '__main__':\n",
    " app.run(host='0.0.0.0', port=5000)"
   ]
  },
  {
   "cell_type": "code",
   "execution_count": null,
   "id": "8ea5716e",
   "metadata": {},
   "outputs": [],
   "source": []
  }
 ],
 "metadata": {
  "kernelspec": {
   "display_name": "Python 3 (ipykernel)",
   "language": "python",
   "name": "python3"
  },
  "language_info": {
   "codemirror_mode": {
    "name": "ipython",
    "version": 3
   },
   "file_extension": ".py",
   "mimetype": "text/x-python",
   "name": "python",
   "nbconvert_exporter": "python",
   "pygments_lexer": "ipython3",
   "version": "3.9.10"
  }
 },
 "nbformat": 4,
 "nbformat_minor": 5
}
