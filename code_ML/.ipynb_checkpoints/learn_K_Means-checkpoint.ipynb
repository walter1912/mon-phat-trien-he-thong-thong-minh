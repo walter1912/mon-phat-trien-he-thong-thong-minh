{
 "cells": [
  {
   "cell_type": "code",
   "execution_count": 7,
   "id": "cb625dfd",
   "metadata": {},
   "outputs": [],
   "source": [
    "# import thu vien\n",
    "import numpy as np\n",
    "import pandas as pd\n",
    "import matplotlib.pyplot as plt \n"
   ]
  },
  {
   "cell_type": "code",
   "execution_count": 8,
   "id": "72f68c1a",
   "metadata": {},
   "outputs": [
    {
     "data": {
      "text/html": [
       "<div>\n",
       "<style scoped>\n",
       "    .dataframe tbody tr th:only-of-type {\n",
       "        vertical-align: middle;\n",
       "    }\n",
       "\n",
       "    .dataframe tbody tr th {\n",
       "        vertical-align: top;\n",
       "    }\n",
       "\n",
       "    .dataframe thead th {\n",
       "        text-align: right;\n",
       "    }\n",
       "</style>\n",
       "<table border=\"1\" class=\"dataframe\">\n",
       "  <thead>\n",
       "    <tr style=\"text-align: right;\">\n",
       "      <th></th>\n",
       "      <th>x</th>\n",
       "      <th>y</th>\n",
       "    </tr>\n",
       "  </thead>\n",
       "  <tbody>\n",
       "    <tr>\n",
       "      <th>0</th>\n",
       "      <td>1</td>\n",
       "      <td>3</td>\n",
       "    </tr>\n",
       "    <tr>\n",
       "      <th>1</th>\n",
       "      <td>1</td>\n",
       "      <td>4</td>\n",
       "    </tr>\n",
       "    <tr>\n",
       "      <th>2</th>\n",
       "      <td>1</td>\n",
       "      <td>6</td>\n",
       "    </tr>\n",
       "    <tr>\n",
       "      <th>3</th>\n",
       "      <td>2</td>\n",
       "      <td>5</td>\n",
       "    </tr>\n",
       "    <tr>\n",
       "      <th>4</th>\n",
       "      <td>2</td>\n",
       "      <td>7</td>\n",
       "    </tr>\n",
       "  </tbody>\n",
       "</table>\n",
       "</div>"
      ],
      "text/plain": [
       "   x  y\n",
       "0  1  3\n",
       "1  1  4\n",
       "2  1  6\n",
       "3  2  5\n",
       "4  2  7"
      ]
     },
     "execution_count": 8,
     "metadata": {},
     "output_type": "execute_result"
    }
   ],
   "source": [
    "df = pd.read_csv('data/dataTestKmean.csv')\n",
    "df.columns = df.columns.str.strip()\n",
    "df.head()"
   ]
  },
  {
   "cell_type": "code",
   "execution_count": 10,
   "id": "fb4d9b46",
   "metadata": {},
   "outputs": [
    {
     "data": {
      "text/plain": [
       "<matplotlib.collections.PathCollection at 0x1bb10c99ee0>"
      ]
     },
     "execution_count": 10,
     "metadata": {},
     "output_type": "execute_result"
    },
    {
     "data": {
      "image/png": "[encoded data removed]",
      "text/plain": [
       "<Figure size 640x480 with 1 Axes>"
      ]
     },
     "metadata": {},
     "output_type": "display_data"
    }
   ],
   "source": [
    "plt.scatter(df['x'], df['y'], c='tomato', s=24)"
   ]
  },
  {
   "cell_type": "code",
   "execution_count": 12,
   "id": "e3e37592",
   "metadata": {},
   "outputs": [
    {
     "name": "stdout",
     "output_type": "stream",
     "text": [
      "[[4. 1.]\n",
      " [4. 8.]\n",
      " [3. 5.]]\n"
     ]
    },
    {
     "data": {
      "text/plain": [
       "Text(0, 0.5, 'y')"
      ]
     },
     "execution_count": 12,
     "metadata": {},
     "output_type": "execute_result"
    },
    {
     "data": {
      "image/png": "[encoded data removed]",
      "text/plain": [
       "<Figure size 640x480 with 1 Axes>"
      ]
     },
     "metadata": {},
     "output_type": "display_data"
    }
   ],
   "source": [
    "#---let k assume a value---\n",
    "k = 3\n",
    "#---create a matrix containing all points---\n",
    "X = np.array(list(zip(df['x'],df['y'])))\n",
    "#---generate k random points (centroids)---\n",
    "Cx = np.random.randint(np.min(X[:,0]), np.max(X[:,0]), size = k)\n",
    "Cy = np.random.randint(np.min(X[:,1]), np.max(X[:,1]), size = k)\n",
    "#---represent the k centroids as a matrix---\n",
    "C = np.array(list(zip(Cx, Cy)), dtype=np.float64)\n",
    "print(C)\n",
    "#---plot the orginal points as well as the k centroids---\n",
    "plt.scatter(df['x'], df['y'], c='r', s=24)\n",
    "plt.scatter(Cx, Cy, marker='*', c='g', s=160)\n",
    "plt.xlabel(\"x\")\n",
    "plt.ylabel(\"y\")"
   ]
  },
  {
   "cell_type": "code",
   "execution_count": null,
   "id": "bd2d9a8d",
   "metadata": {},
   "outputs": [],
   "source": [
    "# THUẠT TOAN K-MEAN\n",
    "from copy import deepcopy\n",
    "\n",
    "#---to calculate the distance between two points---\n",
    "def euclidean_distance(a, b, ax=1):\n",
    "    return np.linalg.norm(a - b, axis=ax)\n",
    "\n",
    "#---create a matrix of 0 with same dimension as C (centroids)---\n",
    "C_prev = np.zeros(C.shape)\n",
    "\n",
    "#---to store the cluster each point belongs to---\n",
    "clusters = np.zeros(len(X))\n",
    "\n",
    "#---C is the random centroids and C_prev is all 0s---\n",
    "#---measure the distance between the centroids and C_prev---\n",
    "distance_differences = euclidean_distance(C, C_prev)\n",
    "\n",
    "#---loop as long as there is still a difference in\n",
    "# distance between the previous and current centroids---\n",
    "while distance_differences.any() != 0:\n",
    "    #---assign each value to its closest cluster---\n",
    "    for i in range(len(X)):\n",
    "        distances = euclidean_distance(X[i], C)\n",
    "        #---returns the indices of the minimum values along an axis---\n",
    "        cluster = np.argmin(distances)\n",
    "        clusters[i] = cluster\n",
    "        \n",
    "    #---store the prev centroids---\n",
    "    C_prev = deepcopy(C)\n",
    "    #---find the new centroids by taking the average value---\n",
    "    for i in range(k): #---k is the number of clusters---\n",
    "        #---take all the points in cluster i---\n",
    "        points = [X[j] for j in range(len(X)) if clusters[j] == i]\n",
    "        if len(points) != 0:\n",
    "            C[i] = np.mean(points, axis=0)\n",
    "    \n",
    "#---find the distances between the old centroids and the new centroids---\n",
    "    distance_differences = euclidean_distance(C, C_prev)\n",
    "    \n",
    "#---plot the scatter plot---\n",
    "colors = ['b','r','y','g','c','m']\n",
    "for i in range(k):\n",
    "    points = np.array([X[j] for j in range(len(X)) if clusters[j] == i])\n",
    "    if len(points) > 0:\n",
    "        plt.scatter(points[:, 0], points[:, 1], s=10, c=colors[i])\n",
    "     else:\n",
    "     # this means that one of the clusters has no points\n",
    "         print(\"Plesae regenerate your centroids again.\")\n",
    "     plt.scatter(points[:, 0], points[:, 1], s=10, c=colors[i])\n",
    "     plt.scatter(C[:, 0], C[:, 1], marker='*', s=100, c='black')"
   ]
  }
 ],
 "metadata": {
  "kernelspec": {
   "display_name": "Python 3 (ipykernel)",
   "language": "python",
   "name": "python3"
  },
  "language_info": {
   "codemirror_mode": {
    "name": "ipython",
    "version": 3
   },
   "file_extension": ".py",
   "mimetype": "text/x-python",
   "name": "python",
   "nbconvert_exporter": "python",
   "pygments_lexer": "ipython3",
   "version": "3.9.10"
  }
 },
 "nbformat": 4,
 "nbformat_minor": 5
}
