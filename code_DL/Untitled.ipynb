{
 "cells": [
  {
   "cell_type": "code",
   "execution_count": 4,
   "id": "ab8dbbbe",
   "metadata": {},
   "outputs": [
    {
     "name": "stdout",
     "output_type": "stream",
     "text": [
      "WARNING:tensorflow:From C:\\Users\\THAIHB.B19CN638\\AppData\\Local\\Programs\\Python\\Python39\\lib\\site-packages\\tensorflow\\python\\compat\\v2_compat.py:107: disable_resource_variables (from tensorflow.python.ops.variable_scope) is deprecated and will be removed in a future version.\n",
      "Instructions for updating:\n",
      "non-resource variables are not supported in the long term\n",
      "b'Hello World'\n"
     ]
    }
   ],
   "source": [
    "import tensorflow.compat.v1 as tf\n",
    "tf.disable_v2_behavior()\n",
    "h = tf.constant('Hello')\n",
    "w = tf.constant('World')\n",
    "hw = h + ' '+w\n",
    "with tf.Session() as sess:\n",
    "    ans = sess.run(hw)\n",
    "print(ans)"
   ]
  },
  {
   "cell_type": "code",
   "execution_count": 5,
   "id": "3ef7beb3",
   "metadata": {},
   "outputs": [],
   "source": [
    "# Creating a Graph\n",
    "a = tf.constant(3)\n",
    "b = tf.constant(5)\n",
    "c = tf.constant(4)\n",
    "\n",
    "d = tf.multiply(a, c) \n",
    "# d = 12\n",
    "e = tf.add(a, b)\n",
    "# e = 8\n",
    "f = tf.subtract(d, e)\n",
    " "
   ]
  },
  {
   "cell_type": "code",
   "execution_count": 6,
   "id": "7e3d4e79",
   "metadata": {},
   "outputs": [
    {
     "name": "stdout",
     "output_type": "stream",
     "text": [
      "outs = 4\n"
     ]
    }
   ],
   "source": [
    "# Creating a Session and Running It\n",
    "sess = tf.Session()\n",
    "outs = sess.run(f)\n",
    "sess.close()\n",
    "print(\"outs = {}\".format(outs))\n"
   ]
  },
  {
   "cell_type": "code",
   "execution_count": 8,
   "id": "a77d1b11",
   "metadata": {},
   "outputs": [
    {
     "name": "stdout",
     "output_type": "stream",
     "text": [
      "tf.get_default_graph():  <tensorflow.python.framework.ops.Graph object at 0x0000027C4818A760>\n",
      "False\n",
      "True\n"
     ]
    }
   ],
   "source": [
    "# Constructing and Managing Our Graph\n",
    "graph = tf.Graph()\n",
    "print(\"tf.get_default_graph(): \", tf.get_default_graph())\n",
    "print(a.graph is graph)\n",
    "print(a.graph is tf.get_default_graph())"
   ]
  },
  {
   "cell_type": "code",
   "execution_count": 10,
   "id": "71e2eb42",
   "metadata": {},
   "outputs": [
    {
     "name": "stdout",
     "output_type": "stream",
     "text": [
      "outs = [3, 5, 4, 12, 8, 4]\n",
      "<class 'numpy.int32'>\n"
     ]
    }
   ],
   "source": [
    "# Fetches\n",
    "with tf.Session() as sess:\n",
    "    fetches = [a,b,c,d,e,f]\n",
    "    outs = sess.run(fetches)\n",
    "print(\"outs = {}\".format(outs))\n",
    "print(type(outs[0]))\n"
   ]
  },
  {
   "cell_type": "code",
   "execution_count": 11,
   "id": "32f8ebe0",
   "metadata": {},
   "outputs": [
    {
     "name": "stdout",
     "output_type": "stream",
     "text": [
      "Tensor(\"Const_5:0\", shape=(), dtype=float64)\n",
      "<dtype: 'float64'>\n"
     ]
    }
   ],
   "source": [
    "# DATA TYPES\n",
    "c = tf.constant(4.0, dtype=tf.float64)\n",
    "print(c)\n",
    "print(c.dtype)\n"
   ]
  },
  {
   "cell_type": "code",
   "execution_count": 12,
   "id": "3dd0114a",
   "metadata": {},
   "outputs": [
    {
     "name": "stdout",
     "output_type": "stream",
     "text": [
      "<dtype: 'float32'>\n",
      "<dtype: 'int64'>\n"
     ]
    }
   ],
   "source": [
    "# Casting\n",
    "x = tf.constant([3, 7, 5],name='x',dtype=tf.float32)\n",
    "print(x.dtype)\n",
    "x = tf.cast(x,tf.int64)\n",
    "print(x.dtype)\n"
   ]
  },
  {
   "cell_type": "code",
   "execution_count": null,
   "id": "a3b3a2b3",
   "metadata": {},
   "outputs": [],
   "source": []
  }
 ],
 "metadata": {
  "kernelspec": {
   "display_name": "Python 3 (ipykernel)",
   "language": "python",
   "name": "python3"
  },
  "language_info": {
   "codemirror_mode": {
    "name": "ipython",
    "version": 3
   },
   "file_extension": ".py",
   "mimetype": "text/x-python",
   "name": "python",
   "nbconvert_exporter": "python",
   "pygments_lexer": "ipython3",
   "version": "3.9.10"
  }
 },
 "nbformat": 4,
 "nbformat_minor": 5
}
